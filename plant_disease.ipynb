{
  "nbformat": 4,
  "nbformat_minor": 0,
  "metadata": {
    "colab": {
      "name": "plant_disease.ipynb",
      "provenance": []
    },
    "kernelspec": {
      "name": "python3",
      "display_name": "Python 3"
    }
  },
  "cells": [
    {
      "cell_type": "code",
      "metadata": {
        "id": "EWonTPSkhkfX",
        "colab_type": "code",
        "outputId": "1384e17d-2175-4117-8049-24d9335e7773",
        "colab": {
          "base_uri": "https://localhost:8080/",
          "height": 34
        }
      },
      "source": [
        "import os, cv2, re, random\n",
        "import numpy as np\n",
        "import pandas as pd\n",
        "from keras.preprocessing.image import ImageDataGenerator\n",
        "from keras.preprocessing.image import img_to_array, load_img\n",
        "from keras import layers, models, optimizers\n",
        "from keras import backend as K\n",
        "from sklearn.model_selection import train_test_split\n",
        "import matplotlib.pyplot as plt\n",
        "\n",
        "from google.colab import drive\n",
        "drive.mount('/content/drive/')"
      ],
      "execution_count": 33,
      "outputs": [
        {
          "output_type": "stream",
          "text": [
            "Drive already mounted at /content/drive/; to attempt to forcibly remount, call drive.mount(\"/content/drive/\", force_remount=True).\n"
          ],
          "name": "stdout"
        }
      ]
    },
    {
      "cell_type": "code",
      "metadata": {
        "id": "m_E_M4CMi7e8",
        "colab_type": "code",
        "colab": {}
      },
      "source": [
        "img_width = 256\n",
        "img_height = 256\n",
        "TRAIN_DIR = '/content/drive/My Drive/Colab Notebooks/train/'\n",
        "TEST_DIR = '/content/drive/My Drive/Colab Notebooks/train/'\n",
        "train_images_dogs_cats = [TRAIN_DIR+i for i in os.listdir(TRAIN_DIR)] # use this for full dataset\n",
        "test_images_dogs_cats = [TEST_DIR+i for i in os.listdir(TEST_DIR)]"
      ],
      "execution_count": 0,
      "outputs": []
    },
    {
      "cell_type": "code",
      "metadata": {
        "id": "iApD3dWsj_l_",
        "colab_type": "code",
        "colab": {}
      },
      "source": [
        "def atoi(text):\n",
        "    return int(text) if text.isdigit() else text\n",
        "\n",
        "def natural_keys(text):\n",
        "    return [ atoi(c) for c in re.split('(\\d+)', text) ]"
      ],
      "execution_count": 0,
      "outputs": []
    },
    {
      "cell_type": "code",
      "metadata": {
        "id": "DYlcEpKekBA7",
        "colab_type": "code",
        "colab": {}
      },
      "source": [
        "train_images_dogs_cats.sort(key=natural_keys)\n",
        "test_images_dogs_cats.sort(key=natural_keys)"
      ],
      "execution_count": 0,
      "outputs": []
    },
    {
      "cell_type": "code",
      "metadata": {
        "id": "StHxmTzNkEDA",
        "colab_type": "code",
        "colab": {}
      },
      "source": [
        "def prepare_data(list_of_images):\n",
        "    \"\"\"\n",
        "    Returns two arrays: \n",
        "        x is an array of resized images\n",
        "        y is an array of labels\n",
        "    \"\"\"\n",
        "    x = [] # images as arrays\n",
        "    y = [] # labels\n",
        "    \n",
        "    for image in list_of_images:\n",
        "        x.append(cv2.resize(cv2.imread(image), (img_width,img_height), interpolation=cv2.INTER_CUBIC))\n",
        "    \n",
        "    for i in list_of_images:\n",
        "        if 'Scab' in i:\n",
        "            y.append(1)\n",
        "        elif 'FrgE' in i:\n",
        "            y.append(0)\n",
        "    return x, y"
      ],
      "execution_count": 0,
      "outputs": []
    },
    {
      "cell_type": "code",
      "metadata": {
        "id": "qyrEbEezkP7W",
        "colab_type": "code",
        "colab": {
          "base_uri": "https://localhost:8080/",
          "height": 34
        },
        "outputId": "70b2acc8-332e-4f1c-b734-b7345d25a146"
      },
      "source": [
        "X, Y = prepare_data(train_images_dogs_cats)\n",
        "print(K.image_data_format())"
      ],
      "execution_count": 39,
      "outputs": [
        {
          "output_type": "stream",
          "text": [
            "channels_last\n"
          ],
          "name": "stdout"
        }
      ]
    },
    {
      "cell_type": "code",
      "metadata": {
        "id": "qfvyDqwJkRw0",
        "colab_type": "code",
        "colab": {}
      },
      "source": [
        "# First split the data in two sets, 80% for training, 20% for Val/Test)\n",
        "X_train, X_val, Y_train, Y_val = train_test_split(X,Y, test_size=0.2, random_state=1)"
      ],
      "execution_count": 0,
      "outputs": []
    },
    {
      "cell_type": "code",
      "metadata": {
        "id": "5WuQOlbCkVFH",
        "colab_type": "code",
        "colab": {}
      },
      "source": [
        "nb_train_samples = len(X_train)\n",
        "nb_validation_samples = len(X_val)\n",
        "batch_size = 16"
      ],
      "execution_count": 0,
      "outputs": []
    },
    {
      "cell_type": "code",
      "metadata": {
        "id": "Gkzjj2fNkX40",
        "colab_type": "code",
        "colab": {
          "base_uri": "https://localhost:8080/",
          "height": 663
        },
        "outputId": "c534497c-81ed-42ec-bc6c-c38b30431a88"
      },
      "source": [
        "model = models.Sequential()\n",
        "\n",
        "model.add(layers.Conv2D(32, (3, 3), input_shape=(img_width, img_height, 3)))\n",
        "model.add(layers.Activation('relu'))\n",
        "model.add(layers.MaxPooling2D(pool_size=(2, 2)))\n",
        "\n",
        "model.add(layers.Conv2D(32, (3, 3)))\n",
        "model.add(layers.Activation('relu'))\n",
        "model.add(layers.MaxPooling2D(pool_size=(2, 2)))\n",
        "\n",
        "model.add(layers.Conv2D(64, (3, 3)))\n",
        "model.add(layers.Activation('relu'))\n",
        "model.add(layers.MaxPooling2D(pool_size=(2, 2)))\n",
        "model.add(layers.Flatten())\n",
        "model.add(layers.Dense(64))\n",
        "model.add(layers.Activation('relu'))\n",
        "model.add(layers.Dropout(0.5))\n",
        "model.add(layers.Dense(1))\n",
        "model.add(layers.Activation('sigmoid'))\n",
        "\n",
        "model.compile(loss='binary_crossentropy',\n",
        "              optimizer='rmsprop',\n",
        "              metrics=['accuracy'])\n",
        "\n",
        "model.summary()"
      ],
      "execution_count": 42,
      "outputs": [
        {
          "output_type": "stream",
          "text": [
            "Model: \"sequential_2\"\n",
            "_________________________________________________________________\n",
            "Layer (type)                 Output Shape              Param #   \n",
            "=================================================================\n",
            "conv2d_4 (Conv2D)            (None, 254, 254, 32)      896       \n",
            "_________________________________________________________________\n",
            "activation_6 (Activation)    (None, 254, 254, 32)      0         \n",
            "_________________________________________________________________\n",
            "max_pooling2d_4 (MaxPooling2 (None, 127, 127, 32)      0         \n",
            "_________________________________________________________________\n",
            "conv2d_5 (Conv2D)            (None, 125, 125, 32)      9248      \n",
            "_________________________________________________________________\n",
            "activation_7 (Activation)    (None, 125, 125, 32)      0         \n",
            "_________________________________________________________________\n",
            "max_pooling2d_5 (MaxPooling2 (None, 62, 62, 32)        0         \n",
            "_________________________________________________________________\n",
            "conv2d_6 (Conv2D)            (None, 60, 60, 64)        18496     \n",
            "_________________________________________________________________\n",
            "activation_8 (Activation)    (None, 60, 60, 64)        0         \n",
            "_________________________________________________________________\n",
            "max_pooling2d_6 (MaxPooling2 (None, 30, 30, 64)        0         \n",
            "_________________________________________________________________\n",
            "flatten_2 (Flatten)          (None, 57600)             0         \n",
            "_________________________________________________________________\n",
            "dense_3 (Dense)              (None, 64)                3686464   \n",
            "_________________________________________________________________\n",
            "activation_9 (Activation)    (None, 64)                0         \n",
            "_________________________________________________________________\n",
            "dropout_2 (Dropout)          (None, 64)                0         \n",
            "_________________________________________________________________\n",
            "dense_4 (Dense)              (None, 1)                 65        \n",
            "_________________________________________________________________\n",
            "activation_10 (Activation)   (None, 1)                 0         \n",
            "=================================================================\n",
            "Total params: 3,715,169\n",
            "Trainable params: 3,715,169\n",
            "Non-trainable params: 0\n",
            "_________________________________________________________________\n"
          ],
          "name": "stdout"
        }
      ]
    },
    {
      "cell_type": "code",
      "metadata": {
        "id": "i-cgXEY2ksHy",
        "colab_type": "code",
        "colab": {}
      },
      "source": [
        "train_datagen = ImageDataGenerator(\n",
        "    rescale=1. / 255,\n",
        "    shear_range=0.2,\n",
        "    zoom_range=0.2,\n",
        "    horizontal_flip=True)\n",
        "\n",
        "val_datagen = ImageDataGenerator(\n",
        "    rescale=1. / 255,\n",
        "    shear_range=0.2,\n",
        "    zoom_range=0.2,\n",
        "    horizontal_flip=True)"
      ],
      "execution_count": 0,
      "outputs": []
    },
    {
      "cell_type": "code",
      "metadata": {
        "id": "umJ7QPRak3je",
        "colab_type": "code",
        "colab": {}
      },
      "source": [
        "train_generator = train_datagen.flow(np.array(X_train), Y_train, batch_size=batch_size)\n",
        "validation_generator = val_datagen.flow(np.array(X_val), Y_val, batch_size=batch_size)"
      ],
      "execution_count": 0,
      "outputs": []
    },
    {
      "cell_type": "code",
      "metadata": {
        "id": "5wVH4HDCk73B",
        "colab_type": "code",
        "colab": {
          "base_uri": "https://localhost:8080/",
          "height": 1000
        },
        "outputId": "e215874d-869f-4b67-b3c5-e45fbd069f79"
      },
      "source": [
        "history = model.fit_generator(\n",
        "    train_generator, \n",
        "    steps_per_epoch=nb_train_samples // batch_size,\n",
        "    epochs=30,\n",
        "    validation_data=validation_generator,\n",
        "    validation_steps=nb_validation_samples // batch_size\n",
        ")"
      ],
      "execution_count": 45,
      "outputs": [
        {
          "output_type": "stream",
          "text": [
            "Epoch 1/30\n",
            "59/59 [==============================] - 91s 2s/step - loss: 0.6083 - accuracy: 0.7596 - val_loss: 0.2318 - val_accuracy: 0.9330\n",
            "Epoch 2/30\n",
            "59/59 [==============================] - 90s 2s/step - loss: 0.3211 - accuracy: 0.8771 - val_loss: 0.1659 - val_accuracy: 0.9596\n",
            "Epoch 3/30\n",
            "59/59 [==============================] - 90s 2s/step - loss: 0.2595 - accuracy: 0.9177 - val_loss: 0.1003 - val_accuracy: 0.9641\n",
            "Epoch 4/30\n",
            "59/59 [==============================] - 89s 2s/step - loss: 0.1901 - accuracy: 0.9383 - val_loss: 0.0857 - val_accuracy: 0.9058\n",
            "Epoch 5/30\n",
            "59/59 [==============================] - 89s 2s/step - loss: 0.1917 - accuracy: 0.9351 - val_loss: 0.1656 - val_accuracy: 0.9821\n",
            "Epoch 6/30\n",
            "59/59 [==============================] - 89s 2s/step - loss: 0.1744 - accuracy: 0.9468 - val_loss: 0.1653 - val_accuracy: 0.9596\n",
            "Epoch 7/30\n",
            "59/59 [==============================] - 89s 2s/step - loss: 0.1803 - accuracy: 0.9426 - val_loss: 0.1865 - val_accuracy: 0.9731\n",
            "Epoch 8/30\n",
            "59/59 [==============================] - 90s 2s/step - loss: 0.1243 - accuracy: 0.9596 - val_loss: 0.2561 - val_accuracy: 0.9058\n",
            "Epoch 9/30\n",
            "59/59 [==============================] - 89s 2s/step - loss: 0.1517 - accuracy: 0.9500 - val_loss: 0.0039 - val_accuracy: 0.9865\n",
            "Epoch 10/30\n",
            "59/59 [==============================] - 89s 2s/step - loss: 0.1465 - accuracy: 0.9606 - val_loss: 0.0424 - val_accuracy: 0.9731\n",
            "Epoch 11/30\n",
            "59/59 [==============================] - 89s 2s/step - loss: 0.1869 - accuracy: 0.9638 - val_loss: 0.0134 - val_accuracy: 0.9910\n",
            "Epoch 12/30\n",
            "59/59 [==============================] - 88s 1s/step - loss: 0.1253 - accuracy: 0.9617 - val_loss: 0.0251 - val_accuracy: 0.9193\n",
            "Epoch 13/30\n",
            "59/59 [==============================] - 89s 2s/step - loss: 0.1313 - accuracy: 0.9682 - val_loss: 0.0340 - val_accuracy: 0.9821\n",
            "Epoch 14/30\n",
            "59/59 [==============================] - 89s 2s/step - loss: 0.1589 - accuracy: 0.9573 - val_loss: 0.0138 - val_accuracy: 0.9821\n",
            "Epoch 15/30\n",
            "59/59 [==============================] - 89s 2s/step - loss: 0.0804 - accuracy: 0.9725 - val_loss: 0.0467 - val_accuracy: 0.9865\n",
            "Epoch 16/30\n",
            "59/59 [==============================] - 89s 2s/step - loss: 0.1136 - accuracy: 0.9702 - val_loss: 0.0024 - val_accuracy: 1.0000\n",
            "Epoch 17/30\n",
            "59/59 [==============================] - 89s 2s/step - loss: 0.1469 - accuracy: 0.9776 - val_loss: 0.0545 - val_accuracy: 0.9910\n",
            "Epoch 18/30\n",
            "59/59 [==============================] - 89s 2s/step - loss: 0.0872 - accuracy: 0.9756 - val_loss: 0.0031 - val_accuracy: 0.9910\n",
            "Epoch 19/30\n",
            "59/59 [==============================] - 89s 2s/step - loss: 0.2124 - accuracy: 0.9786 - val_loss: 0.0807 - val_accuracy: 0.9955\n",
            "Epoch 20/30\n",
            "59/59 [==============================] - 89s 2s/step - loss: 0.1112 - accuracy: 0.9691 - val_loss: 7.6663e-04 - val_accuracy: 0.9955\n",
            "Epoch 21/30\n",
            "59/59 [==============================] - 89s 2s/step - loss: 0.0613 - accuracy: 0.9852 - val_loss: 0.0317 - val_accuracy: 0.9776\n",
            "Epoch 22/30\n",
            "59/59 [==============================] - 89s 2s/step - loss: 0.0404 - accuracy: 0.9872 - val_loss: 0.0266 - val_accuracy: 0.9865\n",
            "Epoch 23/30\n",
            "59/59 [==============================] - 89s 2s/step - loss: 0.2216 - accuracy: 0.9777 - val_loss: 0.1354 - val_accuracy: 0.9910\n",
            "Epoch 24/30\n",
            "59/59 [==============================] - 89s 2s/step - loss: 0.1800 - accuracy: 0.9787 - val_loss: 3.6232e-04 - val_accuracy: 0.9821\n",
            "Epoch 25/30\n",
            "59/59 [==============================] - 89s 2s/step - loss: 0.1116 - accuracy: 0.9809 - val_loss: 2.2204e-04 - val_accuracy: 0.9955\n",
            "Epoch 26/30\n",
            "59/59 [==============================] - 89s 2s/step - loss: 0.0490 - accuracy: 0.9883 - val_loss: 0.0094 - val_accuracy: 0.9865\n",
            "Epoch 27/30\n",
            "59/59 [==============================] - 89s 2s/step - loss: 0.2352 - accuracy: 0.9691 - val_loss: 0.0021 - val_accuracy: 1.0000\n",
            "Epoch 28/30\n",
            "59/59 [==============================] - 89s 2s/step - loss: 0.0985 - accuracy: 0.9820 - val_loss: 5.9502e-04 - val_accuracy: 0.9776\n",
            "Epoch 29/30\n",
            "59/59 [==============================] - 89s 2s/step - loss: 0.1136 - accuracy: 0.9777 - val_loss: 0.0048 - val_accuracy: 0.9955\n",
            "Epoch 30/30\n",
            "59/59 [==============================] - 88s 1s/step - loss: 0.1054 - accuracy: 0.9765 - val_loss: 0.1163 - val_accuracy: 0.9462\n"
          ],
          "name": "stdout"
        }
      ]
    },
    {
      "cell_type": "code",
      "metadata": {
        "id": "fHh62AyMk_7E",
        "colab_type": "code",
        "colab": {}
      },
      "source": [
        "model.save_weights('model_wieghts.h5')\n",
        "model.save('model_keras.h5')"
      ],
      "execution_count": 0,
      "outputs": []
    },
    {
      "cell_type": "code",
      "metadata": {
        "id": "zhpUyBVDbxjy",
        "colab_type": "code",
        "colab": {}
      },
      "source": [
        "X_test, Y_test = prepare_data(test_images_dogs_cats)"
      ],
      "execution_count": 0,
      "outputs": []
    },
    {
      "cell_type": "code",
      "metadata": {
        "id": "cntP663sb9M1",
        "colab_type": "code",
        "colab": {
          "base_uri": "https://localhost:8080/",
          "height": 34
        },
        "outputId": "7cc2da06-9b8b-403d-cd7e-0bbb3752475c"
      },
      "source": [
        "test_generator = val_datagen.flow(np.array(X_test), batch_size=batch_size)\n",
        "prediction_probabilities = model.predict_generator(test_generator, verbose=1)\n",
        "\n",
        "counter = range(1, len(test_images_dogs_cats) + 1)\n",
        "solution = pd.DataFrame({\"id\": counter, \"label\":list(prediction_probabilities)})\n",
        "cols = ['label']\n",
        "\n",
        "for col in cols:\n",
        "    solution[col] = solution[col].map(lambda x: str(x).lstrip('[').rstrip(']')).astype(float)\n",
        "\n",
        "solution.to_csv(\"dogsVScats.csv\", index = False)"
      ],
      "execution_count": 48,
      "outputs": [
        {
          "output_type": "stream",
          "text": [
            "75/75 [==============================] - 40s 529ms/step\n"
          ],
          "name": "stdout"
        }
      ]
    },
    {
      "cell_type": "code",
      "metadata": {
        "id": "FnanmzsKc6oy",
        "colab_type": "code",
        "colab": {
          "base_uri": "https://localhost:8080/",
          "height": 545
        },
        "outputId": "e4109e7a-f973-44b4-8d6c-1f473b913299"
      },
      "source": [
        "acc = history.history['accuracy']\n",
        "val_acc = history.history['val_accuracy']\n",
        "loss = history.history['loss']\n",
        "val_loss = history.history['val_loss']\n",
        "epochs = range(1, len(acc) + 1)\n",
        "#Train and validation accuracy\n",
        "plt.plot(epochs, acc, 'b', label='Training accurarcy')\n",
        "plt.plot(epochs, val_acc, 'r', label='Validation accurarcy')\n",
        "plt.title('Training and Validation accurarcy')\n",
        "plt.legend()\n",
        "plt.savefig('train_val_accuracy.png')\n",
        "\n",
        "plt.figure()\n",
        "#Train and validation loss\n",
        "plt.plot(epochs, loss, 'b', label='Training loss')\n",
        "plt.plot(epochs, val_loss, 'r', label='Validation loss')\n",
        "plt.title('Training and Validation loss')\n",
        "plt.legend()\n",
        "plt.savefig('train_val_loss.png')\n",
        "plt.show()"
      ],
      "execution_count": 49,
      "outputs": [
        {
          "output_type": "display_data",
          "data": {
            "image/png": "[encoded data removed]",
            "text/plain": [
              "<Figure size 432x288 with 1 Axes>"
            ]
          },
          "metadata": {
            "tags": [],
            "needs_background": "light"
          }
        },
        {
          "output_type": "display_data",
          "data": {
            "image/png": "[encoded data removed]",
            "text/plain": [
              "<Figure size 432x288 with 1 Axes>"
            ]
          },
          "metadata": {
            "tags": [],
            "needs_background": "light"
          }
        }
      ]
    }
  ]
}