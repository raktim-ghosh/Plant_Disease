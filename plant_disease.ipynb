{
  "nbformat": 4,
  "nbformat_minor": 0,
  "metadata": {
    "colab": {
      "name": "plant_disease.ipynb",
      "provenance": [],
      "authorship_tag": "ABX9TyP+48x8n0/H/dlAN3mD/VSa",
      "include_colab_link": true
    },
    "kernelspec": {
      "name": "python3",
      "display_name": "Python 3"
    }
  },
  "cells": [
    {
      "cell_type": "markdown",
      "metadata": {
        "id": "view-in-github",
        "colab_type": "text"
      },
      "source": [
        "<a href=\"https://colab.research.google.com/github/raktim-ghosh/Plant_Disease/blob/master/plant_disease.ipynb\" target=\"_parent\"><img src=\"https://colab.research.google.com/assets/colab-badge.svg\" alt=\"Open In Colab\"/></a>"
      ]
    },
    {
      "cell_type": "code",
      "metadata": {
        "id": "EWonTPSkhkfX",
        "colab_type": "code",
        "outputId": "2c4f17ec-0f0c-4d7d-dac3-3a9f644b35b9",
        "colab": {
          "base_uri": "https://localhost:8080/",
          "height": 139
        }
      },
      "source": [
        "import os, cv2, re, random\n",
        "import numpy as np\n",
        "import pandas as pd\n",
        "from keras.preprocessing.image import ImageDataGenerator\n",
        "from keras.preprocessing.image import img_to_array, load_img\n",
        "from keras import layers, models, optimizers\n",
        "from keras import backend as K\n",
        "from sklearn.model_selection import train_test_split\n",
        "import matplotlib.pyplot as plt\n",
        "\n",
        "from google.colab import drive\n",
        "drive.mount('/content/drive/')"
      ],
      "execution_count": 1,
      "outputs": [
        {
          "output_type": "stream",
          "text": [
            "Using TensorFlow backend.\n"
          ],
          "name": "stderr"
        },
        {
          "output_type": "stream",
          "text": [
            "Go to this URL in a browser: https://accounts.google.com/o/oauth2/auth?client_id=947318989803-6bn6qk8qdgf4n4g3pfee6491hc0brc4i.apps.googleusercontent.com&redirect_uri=urn%3aietf%3awg%3aoauth%3a2.0%3aoob&response_type=code&scope=email%20https%3a%2f%2fwww.googleapis.com%2fauth%2fdocs.test%20https%3a%2f%2fwww.googleapis.com%2fauth%2fdrive%20https%3a%2f%2fwww.googleapis.com%2fauth%2fdrive.photos.readonly%20https%3a%2f%2fwww.googleapis.com%2fauth%2fpeopleapi.readonly\n",
            "\n",
            "Enter your authorization code:\n",
            "··········\n",
            "Mounted at /content/drive/\n"
          ],
          "name": "stdout"
        }
      ]
    },
    {
      "cell_type": "code",
      "metadata": {
        "id": "m_E_M4CMi7e8",
        "colab_type": "code",
        "colab": {}
      },
      "source": [
        "img_width = 256\n",
        "img_height = 256\n",
        "TRAIN_DIR = '/content/drive/My Drive/Colab Notebooks/train/'\n",
        "TEST_DIR = '/content/drive/My Drive/Colab Notebooks/test/'\n",
        "train_images_dogs_cats = [TRAIN_DIR+i for i in os.listdir(TRAIN_DIR)] # use this for full dataset\n",
        "test_images_dogs_cats = [TEST_DIR+i for i in os.listdir(TEST_DIR)]"
      ],
      "execution_count": 0,
      "outputs": []
    },
    {
      "cell_type": "code",
      "metadata": {
        "id": "iApD3dWsj_l_",
        "colab_type": "code",
        "colab": {}
      },
      "source": [
        "def atoi(text):\n",
        "    return int(text) if text.isdigit() else text\n",
        "\n",
        "def natural_keys(text):\n",
        "    return [ atoi(c) for c in re.split('(\\d+)', text) ]"
      ],
      "execution_count": 0,
      "outputs": []
    },
    {
      "cell_type": "code",
      "metadata": {
        "id": "DYlcEpKekBA7",
        "colab_type": "code",
        "colab": {}
      },
      "source": [
        "train_images_dogs_cats.sort(key=natural_keys)\n",
        "test_images_dogs_cats.sort(key=natural_keys)"
      ],
      "execution_count": 0,
      "outputs": []
    },
    {
      "cell_type": "code",
      "metadata": {
        "id": "StHxmTzNkEDA",
        "colab_type": "code",
        "colab": {}
      },
      "source": [
        "def prepare_data(list_of_images):\n",
        "    \"\"\"\n",
        "    Returns two arrays: \n",
        "        x is an array of resized images\n",
        "        y is an array of labels\n",
        "    \"\"\"\n",
        "    x = [] # images as arrays\n",
        "    y = [] # labels\n",
        "    \n",
        "    for image in list_of_images:\n",
        "        x.append(cv2.resize(cv2.imread(image), (img_width,img_height), interpolation=cv2.INTER_CUBIC))\n",
        "    \n",
        "    for i in list_of_images:\n",
        "        if 'Scab' in i:\n",
        "            y.append(1)\n",
        "        elif 'FrgE' in i:\n",
        "            y.append(0)\n",
        "    return x, y"
      ],
      "execution_count": 0,
      "outputs": []
    },
    {
      "cell_type": "code",
      "metadata": {
        "id": "qyrEbEezkP7W",
        "colab_type": "code",
        "outputId": "6e582b25-7d96-494d-d637-d34cf2f70680",
        "colab": {
          "base_uri": "https://localhost:8080/",
          "height": 34
        }
      },
      "source": [
        "X, Y = prepare_data(train_images_dogs_cats)\n",
        "print(K.image_data_format())"
      ],
      "execution_count": 6,
      "outputs": [
        {
          "output_type": "stream",
          "text": [
            "channels_last\n"
          ],
          "name": "stdout"
        }
      ]
    },
    {
      "cell_type": "code",
      "metadata": {
        "id": "qfvyDqwJkRw0",
        "colab_type": "code",
        "colab": {}
      },
      "source": [
        "# First split the data in two sets, 80% for training, 20% for Val/Test)\n",
        "X_train, X_val, Y_train, Y_val = train_test_split(X,Y, test_size=0.2, random_state=1)"
      ],
      "execution_count": 0,
      "outputs": []
    },
    {
      "cell_type": "code",
      "metadata": {
        "id": "5WuQOlbCkVFH",
        "colab_type": "code",
        "colab": {}
      },
      "source": [
        "nb_train_samples = len(X_train)\n",
        "nb_validation_samples = len(X_val)\n",
        "batch_size = 16"
      ],
      "execution_count": 0,
      "outputs": []
    },
    {
      "cell_type": "code",
      "metadata": {
        "id": "Gkzjj2fNkX40",
        "colab_type": "code",
        "outputId": "dd35b335-4d75-488e-ad24-b2f13ffc3771",
        "colab": {
          "base_uri": "https://localhost:8080/",
          "height": 663
        }
      },
      "source": [
        "model = models.Sequential()\n",
        "\n",
        "model.add(layers.Conv2D(32, (3, 3), input_shape=(img_width, img_height, 3)))\n",
        "model.add(layers.Activation('relu'))\n",
        "model.add(layers.MaxPooling2D(pool_size=(2, 2)))\n",
        "\n",
        "model.add(layers.Conv2D(32, (3, 3)))\n",
        "model.add(layers.Activation('relu'))\n",
        "model.add(layers.MaxPooling2D(pool_size=(2, 2)))\n",
        "\n",
        "model.add(layers.Conv2D(64, (3, 3)))\n",
        "model.add(layers.Activation('relu'))\n",
        "model.add(layers.MaxPooling2D(pool_size=(2, 2)))\n",
        "model.add(layers.Flatten())\n",
        "model.add(layers.Dense(64))\n",
        "model.add(layers.Activation('relu'))\n",
        "model.add(layers.Dropout(0.5))\n",
        "model.add(layers.Dense(1))\n",
        "model.add(layers.Activation('sigmoid'))\n",
        "\n",
        "model.compile(loss='binary_crossentropy',\n",
        "              optimizer='rmsprop',\n",
        "              metrics=['accuracy'])\n",
        "\n",
        "model.summary()"
      ],
      "execution_count": 9,
      "outputs": [
        {
          "output_type": "stream",
          "text": [
            "Model: \"sequential_1\"\n",
            "_________________________________________________________________\n",
            "Layer (type)                 Output Shape              Param #   \n",
            "=================================================================\n",
            "conv2d_1 (Conv2D)            (None, 254, 254, 32)      896       \n",
            "_________________________________________________________________\n",
            "activation_1 (Activation)    (None, 254, 254, 32)      0         \n",
            "_________________________________________________________________\n",
            "max_pooling2d_1 (MaxPooling2 (None, 127, 127, 32)      0         \n",
            "_________________________________________________________________\n",
            "conv2d_2 (Conv2D)            (None, 125, 125, 32)      9248      \n",
            "_________________________________________________________________\n",
            "activation_2 (Activation)    (None, 125, 125, 32)      0         \n",
            "_________________________________________________________________\n",
            "max_pooling2d_2 (MaxPooling2 (None, 62, 62, 32)        0         \n",
            "_________________________________________________________________\n",
            "conv2d_3 (Conv2D)            (None, 60, 60, 64)        18496     \n",
            "_________________________________________________________________\n",
            "activation_3 (Activation)    (None, 60, 60, 64)        0         \n",
            "_________________________________________________________________\n",
            "max_pooling2d_3 (MaxPooling2 (None, 30, 30, 64)        0         \n",
            "_________________________________________________________________\n",
            "flatten_1 (Flatten)          (None, 57600)             0         \n",
            "_________________________________________________________________\n",
            "dense_1 (Dense)              (None, 64)                3686464   \n",
            "_________________________________________________________________\n",
            "activation_4 (Activation)    (None, 64)                0         \n",
            "_________________________________________________________________\n",
            "dropout_1 (Dropout)          (None, 64)                0         \n",
            "_________________________________________________________________\n",
            "dense_2 (Dense)              (None, 1)                 65        \n",
            "_________________________________________________________________\n",
            "activation_5 (Activation)    (None, 1)                 0         \n",
            "=================================================================\n",
            "Total params: 3,715,169\n",
            "Trainable params: 3,715,169\n",
            "Non-trainable params: 0\n",
            "_________________________________________________________________\n"
          ],
          "name": "stdout"
        }
      ]
    },
    {
      "cell_type": "code",
      "metadata": {
        "id": "i-cgXEY2ksHy",
        "colab_type": "code",
        "colab": {}
      },
      "source": [
        "train_datagen = ImageDataGenerator(\n",
        "    rescale=1. / 255,\n",
        "    shear_range=0.2,\n",
        "    zoom_range=0.2,\n",
        "    horizontal_flip=True)\n",
        "\n",
        "val_datagen = ImageDataGenerator(\n",
        "    rescale=1. / 255,\n",
        "    shear_range=0.2,\n",
        "    zoom_range=0.2,\n",
        "    horizontal_flip=True)"
      ],
      "execution_count": 0,
      "outputs": []
    },
    {
      "cell_type": "code",
      "metadata": {
        "id": "umJ7QPRak3je",
        "colab_type": "code",
        "colab": {}
      },
      "source": [
        "train_generator = train_datagen.flow(np.array(X_train), Y_train, batch_size=batch_size)\n",
        "validation_generator = val_datagen.flow(np.array(X_val), Y_val, batch_size=batch_size)"
      ],
      "execution_count": 0,
      "outputs": []
    },
    {
      "cell_type": "code",
      "metadata": {
        "id": "5wVH4HDCk73B",
        "colab_type": "code",
        "outputId": "04c4d2c3-276e-45eb-96d4-51022fcbb74e",
        "colab": {
          "base_uri": "https://localhost:8080/",
          "height": 1000
        }
      },
      "source": [
        "history = model.fit_generator(\n",
        "    train_generator, \n",
        "    steps_per_epoch=nb_train_samples // batch_size,\n",
        "    epochs=30,\n",
        "    validation_data=validation_generator,\n",
        "    validation_steps=nb_validation_samples // batch_size\n",
        ")"
      ],
      "execution_count": 12,
      "outputs": [
        {
          "output_type": "stream",
          "text": [
            "Epoch 1/30\n",
            "59/59 [==============================] - 86s 1s/step - loss: 0.6643 - accuracy: 0.6702 - val_loss: 0.0897 - val_accuracy: 0.9286\n",
            "Epoch 2/30\n",
            "59/59 [==============================] - 85s 1s/step - loss: 0.3727 - accuracy: 0.8702 - val_loss: 0.3605 - val_accuracy: 0.8834\n",
            "Epoch 3/30\n",
            "59/59 [==============================] - 85s 1s/step - loss: 0.2982 - accuracy: 0.9106 - val_loss: 0.1045 - val_accuracy: 0.9596\n",
            "Epoch 4/30\n",
            "59/59 [==============================] - 85s 1s/step - loss: 0.2585 - accuracy: 0.9170 - val_loss: 1.0452 - val_accuracy: 0.5874\n",
            "Epoch 5/30\n",
            "59/59 [==============================] - 85s 1s/step - loss: 0.2196 - accuracy: 0.9255 - val_loss: 0.1759 - val_accuracy: 0.9552\n",
            "Epoch 6/30\n",
            "59/59 [==============================] - 85s 1s/step - loss: 0.2122 - accuracy: 0.9351 - val_loss: 0.1869 - val_accuracy: 0.8565\n",
            "Epoch 7/30\n",
            "59/59 [==============================] - 85s 1s/step - loss: 0.2154 - accuracy: 0.9330 - val_loss: 0.0253 - val_accuracy: 0.9865\n",
            "Epoch 8/30\n",
            "59/59 [==============================] - 85s 1s/step - loss: 0.1785 - accuracy: 0.9521 - val_loss: 0.1041 - val_accuracy: 0.9776\n",
            "Epoch 9/30\n",
            "59/59 [==============================] - 85s 1s/step - loss: 0.1327 - accuracy: 0.9638 - val_loss: 0.0960 - val_accuracy: 0.9417\n",
            "Epoch 10/30\n",
            "59/59 [==============================] - 85s 1s/step - loss: 0.1734 - accuracy: 0.9511 - val_loss: 0.2111 - val_accuracy: 0.9058\n",
            "Epoch 11/30\n",
            "59/59 [==============================] - 85s 1s/step - loss: 0.1327 - accuracy: 0.9640 - val_loss: 0.1746 - val_accuracy: 0.8610\n",
            "Epoch 12/30\n",
            "59/59 [==============================] - 84s 1s/step - loss: 0.1458 - accuracy: 0.9530 - val_loss: 0.6945 - val_accuracy: 0.7623\n",
            "Epoch 13/30\n",
            "59/59 [==============================] - 84s 1s/step - loss: 0.1573 - accuracy: 0.9649 - val_loss: 0.0169 - val_accuracy: 0.9955\n",
            "Epoch 14/30\n",
            "59/59 [==============================] - 85s 1s/step - loss: 0.1355 - accuracy: 0.9650 - val_loss: 0.0013 - val_accuracy: 0.9865\n",
            "Epoch 15/30\n",
            "59/59 [==============================] - 84s 1s/step - loss: 0.1113 - accuracy: 0.9626 - val_loss: 0.1173 - val_accuracy: 0.9910\n",
            "Epoch 16/30\n",
            "59/59 [==============================] - 85s 1s/step - loss: 0.1340 - accuracy: 0.9640 - val_loss: 0.0796 - val_accuracy: 0.9955\n",
            "Epoch 17/30\n",
            "59/59 [==============================] - 85s 1s/step - loss: 0.1008 - accuracy: 0.9776 - val_loss: 0.0048 - val_accuracy: 0.9865\n",
            "Epoch 18/30\n",
            "59/59 [==============================] - 85s 1s/step - loss: 0.1010 - accuracy: 0.9755 - val_loss: 0.0072 - val_accuracy: 0.9821\n",
            "Epoch 19/30\n",
            "59/59 [==============================] - 85s 1s/step - loss: 0.1238 - accuracy: 0.9660 - val_loss: 0.0274 - val_accuracy: 0.9641\n",
            "Epoch 20/30\n",
            "59/59 [==============================] - 85s 1s/step - loss: 0.1099 - accuracy: 0.9670 - val_loss: 4.0542e-04 - val_accuracy: 1.0000\n",
            "Epoch 21/30\n",
            "59/59 [==============================] - 85s 1s/step - loss: 0.1907 - accuracy: 0.9649 - val_loss: 0.0216 - val_accuracy: 0.9910\n",
            "Epoch 22/30\n",
            "59/59 [==============================] - 84s 1s/step - loss: 0.0905 - accuracy: 0.9766 - val_loss: 8.4207e-04 - val_accuracy: 0.9641\n",
            "Epoch 23/30\n",
            "59/59 [==============================] - 84s 1s/step - loss: 0.0698 - accuracy: 0.9872 - val_loss: 1.1055e-04 - val_accuracy: 1.0000\n",
            "Epoch 24/30\n",
            "59/59 [==============================] - 85s 1s/step - loss: 0.1178 - accuracy: 0.9693 - val_loss: 0.0019 - val_accuracy: 0.9821\n",
            "Epoch 25/30\n",
            "59/59 [==============================] - 84s 1s/step - loss: 0.1157 - accuracy: 0.9712 - val_loss: 0.0508 - val_accuracy: 0.9686\n",
            "Epoch 26/30\n",
            "59/59 [==============================] - 84s 1s/step - loss: 0.1023 - accuracy: 0.9787 - val_loss: 0.0011 - val_accuracy: 0.9910\n",
            "Epoch 27/30\n",
            "59/59 [==============================] - 84s 1s/step - loss: 0.0571 - accuracy: 0.9819 - val_loss: 0.0026 - val_accuracy: 0.9910\n",
            "Epoch 28/30\n",
            "59/59 [==============================] - 84s 1s/step - loss: 0.1181 - accuracy: 0.9798 - val_loss: 0.0100 - val_accuracy: 0.9821\n",
            "Epoch 29/30\n",
            "59/59 [==============================] - 84s 1s/step - loss: 0.0532 - accuracy: 0.9809 - val_loss: 0.0108 - val_accuracy: 0.9910\n",
            "Epoch 30/30\n",
            "59/59 [==============================] - 84s 1s/step - loss: 0.1991 - accuracy: 0.9797 - val_loss: 0.0113 - val_accuracy: 1.0000\n"
          ],
          "name": "stdout"
        }
      ]
    },
    {
      "cell_type": "code",
      "metadata": {
        "id": "fHh62AyMk_7E",
        "colab_type": "code",
        "colab": {}
      },
      "source": [
        "model.save_weights('model_wieghts.h5')\n",
        "model.save('model_keras.h5')"
      ],
      "execution_count": 0,
      "outputs": []
    },
    {
      "cell_type": "code",
      "metadata": {
        "id": "zhpUyBVDbxjy",
        "colab_type": "code",
        "colab": {}
      },
      "source": [
        "X_test, Y_test = prepare_data(test_images_dogs_cats)"
      ],
      "execution_count": 0,
      "outputs": []
    },
    {
      "cell_type": "code",
      "metadata": {
        "id": "cntP663sb9M1",
        "colab_type": "code",
        "outputId": "a41b1abe-fbc5-4697-ecc4-261ff856b499",
        "colab": {
          "base_uri": "https://localhost:8080/",
          "height": 34
        }
      },
      "source": [
        "test_generator = val_datagen.flow(np.array(X_test), batch_size=batch_size)\n",
        "prediction_probabilities = model.predict_generator(test_generator, verbose=1)\n",
        "\n",
        "counter = range(1, len(test_images_dogs_cats) + 1)\n",
        "solution = pd.DataFrame({\"id\": counter, \"label\":list(prediction_probabilities)})\n",
        "cols = ['label']\n",
        "\n",
        "for col in cols:\n",
        "    solution[col] = solution[col].map(lambda x: str(x).lstrip('[').rstrip(']')).astype(float)\n",
        "\n",
        "solution.to_csv(\"dogsVScats.csv\", index = False)"
      ],
      "execution_count": 15,
      "outputs": [
        {
          "output_type": "stream",
          "text": [
            "4/4 [==============================] - 2s 476ms/step\n"
          ],
          "name": "stdout"
        }
      ]
    },
    {
      "cell_type": "code",
      "metadata": {
        "id": "FnanmzsKc6oy",
        "colab_type": "code",
        "outputId": "4f8cc8bd-39be-498e-bf13-79cff638733b",
        "colab": {
          "base_uri": "https://localhost:8080/",
          "height": 545
        }
      },
      "source": [
        "acc = history.history['accuracy']\n",
        "val_acc = history.history['val_accuracy']\n",
        "loss = history.history['loss']\n",
        "val_loss = history.history['val_loss']\n",
        "epochs = range(1, len(acc) + 1)\n",
        "#Train and validation accuracy\n",
        "plt.plot(epochs, acc, 'b', label='Training accurarcy')\n",
        "plt.plot(epochs, val_acc, 'r', label='Validation accurarcy')\n",
        "plt.title('Training and Validation accurarcy')\n",
        "plt.legend()\n",
        "plt.savefig('train_val_accuracy.png')\n",
        "\n",
        "plt.figure()\n",
        "#Train and validation loss\n",
        "plt.plot(epochs, loss, 'b', label='Training loss')\n",
        "plt.plot(epochs, val_loss, 'r', label='Validation loss')\n",
        "plt.title('Training and Validation loss')\n",
        "plt.legend()\n",
        "plt.savefig('train_val_loss.png')\n",
        "plt.show()"
      ],
      "execution_count": 16,
      "outputs": [
        {
          "output_type": "display_data",
          "data": {
            "image/png": "[encoded data removed]",
            "text/plain": [
              "<Figure size 432x288 with 1 Axes>"
            ]
          },
          "metadata": {
            "tags": [],
            "needs_background": "light"
          }
        },
        {
          "output_type": "display_data",
          "data": {
            "image/png": "[encoded data removed]",
            "text/plain": [
              "<Figure size 432x288 with 1 Axes>"
            ]
          },
          "metadata": {
            "tags": [],
            "needs_background": "light"
          }
        }
      ]
    }
  ]
}